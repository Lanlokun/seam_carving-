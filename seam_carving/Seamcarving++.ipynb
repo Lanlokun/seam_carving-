{
  "cells": [
    {
      "cell_type": "code",
      "execution_count": null,
      "metadata": {
        "colab": {
          "base_uri": "https://localhost:8080/"
        },
        "id": "SN7VIMY8o_ET",
        "outputId": "8bcf5e8c-2d9a-479b-cb39-4bfbd33f845d"
      },
      "outputs": [],
      "source": [
        "%pip install numpy opencv-python matplotlib torch torchvision numba"
      ]
    },
    {
      "cell_type": "code",
      "execution_count": null,
      "metadata": {
        "id": "p-hbnT3mpSb2"
      },
      "outputs": [],
      "source": [
        "import numpy as np\n",
        "import cv2\n",
        "from matplotlib import pyplot as plt\n",
        "import torch\n",
        "from torchvision import models, transforms\n",
        "from torchvision.models.segmentation import deeplabv3_mobilenet_v3_large\n",
        "from numba import jit\n"
      ]
    },
    {
      "cell_type": "code",
      "execution_count": null,
      "metadata": {
        "id": "3_hUf0IbpWm2"
      },
      "outputs": [],
      "source": [
        "def load_image(image_path):\n",
        "    image = cv2.imread(image_path)\n",
        "    image = cv2.cvtColor(image, cv2.COLOR_BGR2RGB)\n",
        "    return image"
      ]
    },
    {
      "cell_type": "code",
      "execution_count": null,
      "metadata": {
        "id": "-8uQfihXpaaj"
      },
      "outputs": [],
      "source": [
        "def compute_energy_map(image):\n",
        "    gray = cv2.cvtColor(image, cv2.COLOR_RGB2GRAY)\n",
        "    sobel_x = cv2.Sobel(gray, cv2.CV_64F, 1, 0, ksize=3)\n",
        "    sobel_y = cv2.Sobel(gray, cv2.CV_64F, 0, 1, ksize=3)\n",
        "    energy_map = np.abs(sobel_x) + np.abs(sobel_y)\n",
        "    return energy_map\n"
      ]
    },
    {
      "cell_type": "code",
      "execution_count": null,
      "metadata": {
        "id": "FeXZIm_upfvO"
      },
      "outputs": [],
      "source": [
        "from torchvision.models.segmentation import deeplabv3_mobilenet_v3_large\n",
        "\n",
        "def load_segmentation_model():\n",
        "    model = deeplabv3_mobilenet_v3_large(pretrained=True).eval()\n",
        "    preprocess = transforms.Compose([\n",
        "        transforms.ToTensor(),\n",
        "        transforms.Normalize(mean=[0.485, 0.456, 0.406], std=[0.229, 0.224, 0.225]),\n",
        "    ])\n",
        "    return model, preprocess\n"
      ]
    },
    {
      "cell_type": "code",
      "execution_count": null,
      "metadata": {
        "id": "s6DOAiOxphur"
      },
      "outputs": [],
      "source": [
        "def get_segmentation_mask(image, model, preprocess):\n",
        "    input_tensor = preprocess(image).unsqueeze(0)\n",
        "    with torch.no_grad():\n",
        "        output = model(input_tensor)['out']\n",
        "    segmentation_map = torch.argmax(output.squeeze(), dim=0).detach().cpu().numpy()\n",
        "    return segmentation_map"
      ]
    },
    {
      "cell_type": "code",
      "execution_count": null,
      "metadata": {
        "id": "FeMV0OoVpjiT"
      },
      "outputs": [],
      "source": [
        "def enhance_energy_map(energy_map, segmentation_mask, important_classes, lambda_weight=1000):\n",
        "    enhanced_map = energy_map.copy()\n",
        "    for cls in important_classes:\n",
        "        enhanced_map[segmentation_mask == cls] += lambda_weight\n",
        "    return enhanced_map"
      ]
    },
    {
      "cell_type": "code",
      "execution_count": null,
      "metadata": {
        "id": "6ccOL-5splHW"
      },
      "outputs": [],
      "source": [
        "def find_seam(energy_map):\n",
        "    rows, cols = energy_map.shape\n",
        "    seam = np.zeros(rows, dtype=int)\n",
        "    cost = energy_map.copy()\n",
        "    backtrack = np.zeros_like(cost, dtype=int)\n",
        "\n",
        "    for i in range(1, rows):\n",
        "        for j in range(cols):\n",
        "            left = cost[i - 1, j - 1] if j > 0 else float('inf')\n",
        "            up = cost[i - 1, j]\n",
        "            right = cost[i - 1, j + 1] if j < cols - 1 else float('inf')\n",
        "            min_energy = min(left, up, right)\n",
        "\n",
        "            cost[i, j] += min_energy\n",
        "            backtrack[i, j] = np.argmin([left, up, right]) - 1\n",
        "\n",
        "    seam[-1] = np.argmin(cost[-1])\n",
        "    for i in range(rows - 2, -1, -1):\n",
        "        seam[i] = seam[i + 1] + backtrack[i + 1, seam[i + 1]]\n",
        "\n",
        "    return seam"
      ]
    },
    {
      "cell_type": "code",
      "execution_count": null,
      "metadata": {
        "id": "I6FW32ZppmvU"
      },
      "outputs": [],
      "source": [
        "\n",
        "def remove_seam(image, seam):\n",
        "    rows, cols, _ = image.shape\n",
        "    output = np.zeros((rows, cols - 1, 3), dtype=image.dtype)\n",
        "    for i in range(rows):\n",
        "        output[i, :, :] = np.delete(image[i, :, :], seam[i], axis=0)\n",
        "    return output\n"
      ]
    },
    {
      "cell_type": "code",
      "execution_count": null,
      "metadata": {
        "id": "vQNmCPOBpnw4"
      },
      "outputs": [],
      "source": [
        "def seam_carve(image, energy_map, num_seams=1):\n",
        "    for _ in range(num_seams):\n",
        "        seam = find_seam(energy_map)\n",
        "        image = remove_seam(image, seam)\n",
        "        energy_map = compute_energy_map(image)\n",
        "    return image"
      ]
    },
    {
      "cell_type": "code",
      "execution_count": null,
      "metadata": {
        "id": "Q7_b4FIIpqcr"
      },
      "outputs": [],
      "source": [
        "def main(image_path, important_classes=[15]):  # Example: Class 15 is \"person\"\n",
        "    image = load_image(image_path)\n",
        "    model, preprocess = load_segmentation_model()\n",
        "\n",
        "\n",
        "    energy_map = compute_energy_map(image)\n",
        "    segmentation_mask = get_segmentation_mask(image, model, preprocess)\n",
        "\n",
        "    enhanced_map = enhance_energy_map(energy_map, segmentation_mask, important_classes)\n",
        "\n",
        "    # Perform enhanced seam carving\n",
        "    resized_image = seam_carve(image, enhanced_map, num_seams=100)\n",
        "    resized_image_2 = seam_carve(image, energy_map, num_seams=100)\n",
        "\n",
        "    cv2.imwrite(\"original_image.jpg\", cv2.cvtColor(image, cv2.COLOR_RGB2BGR))\n",
        "    cv2.imwrite(\"vanilla_resized_image.jpg\", cv2.cvtColor(resized_image_2, cv2.COLOR_RGB2BGR))\n",
        "    cv2.imwrite(\"segmentation_mask.jpg\", (segmentation_mask * 255).astype(np.uint8))\n",
        "    cv2.imwrite(\"enhanced_resized_image.jpg\", cv2.cvtColor(resized_image, cv2.COLOR_RGB2BGR))\n",
        "\n",
        "\n",
        "    # Show results\n",
        "    plt.figure(figsize=(10, 5))\n",
        "    plt.subplot(1, 3, 1)\n",
        "    plt.title(\"Original Image\")\n",
        "    plt.imshow(image)\n",
        "    plt.axis(\"off\")\n",
        "\n",
        "    plt.subplot(1, 3, 2)\n",
        "    plt.title(\"Segmentation Mask\")\n",
        "    plt.imshow(segmentation_mask, cmap=\"jet\")\n",
        "    plt.axis(\"off\")\n",
        "\n",
        "\n",
        "    plt.subplot(1, 3, 3)\n",
        "    plt.title(\"Vanillla Resized Image\")\n",
        "    plt.imshow(resized_image_2)\n",
        "    plt.axis(\"off\")\n",
        "    plt.show()\n",
        "\n",
        "    plt.subplot(1, 3, 3)\n",
        "    plt.title(\"Enhanced Resized Image\")\n",
        "    plt.imshow(resized_image)\n",
        "    plt.axis(\"off\")\n",
        "    plt.show()\n",
        "\n",
        "\n",
        "    # from google.colab import files\n",
        "\n",
        "    # files.download(\"original_image.jpg\")\n",
        "    # files.download(\"segmentation_mask.jpg\")\n",
        "    # files.download(\"resized_image.jpg\")\n"
      ]
    },
    {
      "cell_type": "code",
      "execution_count": null,
      "metadata": {
        "colab": {
          "base_uri": "https://localhost:8080/",
          "height": 362
        },
        "id": "3lz4jLm6puBe",
        "outputId": "317695d9-1cab-4bfb-d619-079c1cc1c1ea"
      },
      "outputs": [],
      "source": [
        "if __name__ == \"__main__\":\n",
        "  image_path = \"place_image_here\"\n",
        "  main(image_path)\n"
      ]
    }
  ],
  "metadata": {
    "accelerator": "GPU",
    "colab": {
      "gpuType": "T4",
      "provenance": []
    },
    "kernelspec": {
      "display_name": "allensdk",
      "language": "python",
      "name": "allensdk"
    },
    "language_info": {
      "codemirror_mode": {
        "name": "ipython",
        "version": 3
      },
      "file_extension": ".py",
      "mimetype": "text/x-python",
      "name": "python",
      "nbconvert_exporter": "python",
      "pygments_lexer": "ipython3",
      "version": "3.10.12"
    }
  },
  "nbformat": 4,
  "nbformat_minor": 0
}
